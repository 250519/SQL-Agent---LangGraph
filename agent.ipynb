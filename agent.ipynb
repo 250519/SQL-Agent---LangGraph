{
 "cells": [
  {
   "cell_type": "code",
   "execution_count": 3,
   "metadata": {},
   "outputs": [],
   "source": [
    "import sqlite3"
   ]
  },
  {
   "cell_type": "code",
   "execution_count": 157,
   "metadata": {},
   "outputs": [],
   "source": [
    "con = sqlite3.connect(\"mydb.db\")\n"
   ]
  },
  {
   "cell_type": "code",
   "execution_count": 149,
   "metadata": {},
   "outputs": [
    {
     "data": {
      "text/plain": [
       "<sqlite3.Connection at 0x123db05e0>"
      ]
     },
     "execution_count": 149,
     "metadata": {},
     "output_type": "execute_result"
    }
   ],
   "source": [
    "conn"
   ]
  },
  {
   "cell_type": "code",
   "execution_count": 158,
   "metadata": {},
   "outputs": [],
   "source": [
    "table_creation_query=\"\"\"\n",
    "CREATE TABLE IF NOT EXISTS employees (\n",
    "    emp_id INTEGER PRIMARY KEY,\n",
    "    first_name TEXT NOT NULL,\n",
    "    last_name TEXT NOT NULL,\n",
    "    email TEXT UNIQUE NOT NULL,\n",
    "    hire_date TEXT NOT NULL,\n",
    "    salary REAL NOT NULL\n",
    ");\n",
    "\"\"\""
   ]
  },
  {
   "cell_type": "code",
   "execution_count": 159,
   "metadata": {},
   "outputs": [],
   "source": [
    "table_creation_query2=\"\"\"\n",
    "CREATE TABLE IF NOT EXISTS customers (\n",
    "    customer_id INTEGER PRIMARY KEY AUTOINCREMENT,\n",
    "    first_name TEXT NOT NULL,\n",
    "    last_name TEXT NOT NULL,\n",
    "    email TEXT UNIQUE NOT NULL,\n",
    "    phone TEXT\n",
    ");\n",
    "\"\"\""
   ]
  },
  {
   "cell_type": "code",
   "execution_count": 160,
   "metadata": {},
   "outputs": [],
   "source": [
    "table_creation_query3=\"\"\"\n",
    "CREATE TABLE IF NOT EXISTS orders (\n",
    "    order_id INTEGER PRIMARY KEY AUTOINCREMENT,\n",
    "    customer_id INTEGER NOT NULL,\n",
    "    order_date TEXT NOT NULL,\n",
    "    amount REAL NOT NULL,\n",
    "    FOREIGN KEY (customer_id) REFERENCES customers (customer_id)\n",
    ");\n",
    "\n",
    "\"\"\""
   ]
  },
  {
   "cell_type": "code",
   "execution_count": 161,
   "metadata": {},
   "outputs": [],
   "source": [
    "cursor=con.cursor()\n"
   ]
  },
  {
   "cell_type": "code",
   "execution_count": 162,
   "metadata": {},
   "outputs": [
    {
     "data": {
      "text/plain": [
       "<sqlite3.Cursor at 0x123db7840>"
      ]
     },
     "execution_count": 162,
     "metadata": {},
     "output_type": "execute_result"
    }
   ],
   "source": [
    "cursor.execute(table_creation_query)\n",
    "cursor.execute(table_creation_query2)\n",
    "cursor.execute(table_creation_query3)"
   ]
  },
  {
   "cell_type": "code",
   "execution_count": 163,
   "metadata": {
    "vscode": {
     "languageId": "sql"
    }
   },
   "outputs": [],
   "source": [
    "insert_query = \"\"\"\n",
    "INSERT INTO employees (emp_id, first_name, last_name, email, hire_date, salary)\n",
    "VALUES (?, ?, ?, ?, ?, ?);\n",
    "\"\"\"\n",
    "\n",
    "insert_query_customers = \"\"\"\n",
    "INSERT INTO customers (customer_id, first_name, last_name, email, phone)\n",
    "VALUES (?, ?, ?, ?, ?);\n",
    "\"\"\"\n",
    "\n",
    "insert_query_orders = \"\"\"\n",
    "INSERT INTO orders (order_id, customer_id, order_date, amount)\n",
    "VALUES (?, ?, ?, ?);\n",
    "\"\"\""
   ]
  },
  {
   "cell_type": "code",
   "execution_count": 164,
   "metadata": {},
   "outputs": [],
   "source": [
    "employee_data = [\n",
    "    (1, \"Sunny\", \"Savita\", \"sunny.sv@abc.com\", \"2023-06-01\", 50000.00),\n",
    "    (2, \"Arhun\", \"Meheta\", \"arhun.m@gmail.com\", \"2022-04-15\", 60000.00),\n",
    "    (3, \"Alice\", \"Johnson\", \"alice.johnson@jpg.com\", \"2021-09-30\", 55000.00),\n",
    "    (4, \"Bob\", \"Brown\", \"bob.brown@uio.com\", \"2020-01-20\", 45000.00),\n",
    "    ]\n",
    "\n",
    "customers_data = [\n",
    "    (1, \"John\", \"Doe\", \"john.doe@example.com\", \"1234567890\"),\n",
    "    (2, \"Jane\", \"Smith\", \"jane.smith@example.com\", \"9876543210\"),\n",
    "    (3, \"Emily\", \"Davis\", \"emily.davis@example.com\", \"4567891230\"),\n",
    "    (4, \"Michael\", \"Brown\", \"michael.brown@example.com\", \"7894561230\"),\n",
    "]\n",
    "\n",
    "orders_data = [\n",
    "    (1, 1, \"2023-12-01\", 250.75),\n",
    "    (2, 2, \"2023-11-20\", 150.50),\n",
    "    (3, 3, \"2023-11-25\", 300.00),\n",
    "    (4, 4, \"2023-12-02\", 450.00),\n",
    "]"
   ]
  },
  {
   "cell_type": "code",
   "execution_count": 165,
   "metadata": {},
   "outputs": [
    {
     "data": {
      "text/plain": [
       "<sqlite3.Cursor at 0x123db7840>"
      ]
     },
     "execution_count": 165,
     "metadata": {},
     "output_type": "execute_result"
    }
   ],
   "source": [
    "cursor.executemany(insert_query,employee_data)\n",
    "cursor.executemany(insert_query_customers,customers_data)\n",
    "cursor.executemany(insert_query_orders,orders_data)"
   ]
  },
  {
   "cell_type": "code",
   "execution_count": 166,
   "metadata": {},
   "outputs": [],
   "source": [
    "con.commit()\n"
   ]
  },
  {
   "cell_type": "code",
   "execution_count": 168,
   "metadata": {},
   "outputs": [
    {
     "name": "stdout",
     "output_type": "stream",
     "text": [
      "(1, 'Sunny', 'Savita', 'sunny.sv@abc.com', '2023-06-01', 50000.0)\n",
      "(2, 'Arhun', 'Meheta', 'arhun.m@gmail.com', '2022-04-15', 60000.0)\n",
      "(3, 'Alice', 'Johnson', 'alice.johnson@jpg.com', '2021-09-30', 55000.0)\n",
      "(4, 'Bob', 'Brown', 'bob.brown@uio.com', '2020-01-20', 45000.0)\n"
     ]
    }
   ],
   "source": [
    "cursor = con.execute(\"SELECT * FROM employees;\")\n",
    "for row in cursor:\n",
    "    print(row)"
   ]
  },
  {
   "cell_type": "code",
   "execution_count": null,
   "metadata": {},
   "outputs": [],
   "source": [
    "# Install the langchain-community package\n",
    "%pip install langchain-community\n",
    "\n",
    "# Import the SQLDatabase module\n",
    "# from langchain_community.utilities import SQLDatabase"
   ]
  },
  {
   "cell_type": "code",
   "execution_count": 14,
   "metadata": {},
   "outputs": [],
   "source": [
    "from langchain_community.utilities import SQLDatabase"
   ]
  },
  {
   "cell_type": "code",
   "execution_count": 169,
   "metadata": {},
   "outputs": [],
   "source": [
    "db= SQLDatabase.from_uri(\"sqlite:///mydb.db\")"
   ]
  },
  {
   "cell_type": "code",
   "execution_count": 170,
   "metadata": {},
   "outputs": [
    {
     "data": {
      "text/plain": [
       "['customers', 'employees', 'orders']"
      ]
     },
     "execution_count": 170,
     "metadata": {},
     "output_type": "execute_result"
    }
   ],
   "source": [
    "db.get_usable_table_names()"
   ]
  },
  {
   "cell_type": "code",
   "execution_count": 171,
   "metadata": {},
   "outputs": [
    {
     "data": {
      "text/plain": [
       "'\\nCREATE TABLE employees (\\n\\temp_id INTEGER, \\n\\tfirst_name TEXT NOT NULL, \\n\\tlast_name TEXT NOT NULL, \\n\\temail TEXT NOT NULL, \\n\\thire_date TEXT NOT NULL, \\n\\tsalary REAL NOT NULL, \\n\\tPRIMARY KEY (emp_id), \\n\\tUNIQUE (email)\\n)\\n\\n/*\\n3 rows from employees table:\\nemp_id\\tfirst_name\\tlast_name\\temail\\thire_date\\tsalary\\n1\\tSunny\\tSavita\\tsunny.sv@abc.com\\t2023-06-01\\t50000.0\\n2\\tArhun\\tMeheta\\tarhun.m@gmail.com\\t2022-04-15\\t60000.0\\n3\\tAlice\\tJohnson\\talice.johnson@jpg.com\\t2021-09-30\\t55000.0\\n*/'"
      ]
     },
     "execution_count": 171,
     "metadata": {},
     "output_type": "execute_result"
    }
   ],
   "source": [
    "db.get_table_info(['employees'])\n"
   ]
  },
  {
   "cell_type": "code",
   "execution_count": 172,
   "metadata": {},
   "outputs": [
    {
     "data": {
      "text/plain": [
       "True"
      ]
     },
     "execution_count": 172,
     "metadata": {},
     "output_type": "execute_result"
    }
   ],
   "source": [
    "from dotenv import load_dotenv\n",
    "load_dotenv()"
   ]
  },
  {
   "cell_type": "code",
   "execution_count": 173,
   "metadata": {},
   "outputs": [],
   "source": [
    "from langchain_groq import ChatGroq\n",
    "llm= ChatGroq(model=\"llama-3.1-8b-instant\")"
   ]
  },
  {
   "cell_type": "code",
   "execution_count": 21,
   "metadata": {},
   "outputs": [
    {
     "data": {
      "text/plain": [
       "AIMessage(content='The Gujarat Titans (GT) won the IPL 2022. They defeated the Rajasthan Royals (RR) in the final, which took place on May 29, 2022, at the Narendra Modi Stadium in Ahmedabad. It was the inaugural season of the team, and they won the championship in their first year of existence.', additional_kwargs={}, response_metadata={'token_usage': {'completion_tokens': 68, 'prompt_tokens': 51, 'total_tokens': 119, 'completion_time': 0.128585099, 'prompt_time': 0.002668281, 'queue_time': 0.046513369, 'total_time': 0.13125338}, 'model_name': 'llama-3.1-8b-instant', 'system_fingerprint': 'fp_510c177af0', 'finish_reason': 'stop', 'logprobs': None}, id='run--33522403-dc20-4bf1-8f08-1e6c760be687-0', usage_metadata={'input_tokens': 51, 'output_tokens': 68, 'total_tokens': 119})"
      ]
     },
     "execution_count": 21,
     "metadata": {},
     "output_type": "execute_result"
    }
   ],
   "source": [
    "messages = [\n",
    "    (\"system\", \"You are a Chatbot that can answer questions\"),\n",
    "    (\"human\", \"who won IPL 2022?\"),\n",
    "]\n",
    "llm.invoke(messages)"
   ]
  },
  {
   "cell_type": "code",
   "execution_count": 174,
   "metadata": {},
   "outputs": [],
   "source": [
    "from langchain_community.agent_toolkits import SQLDatabaseToolkit"
   ]
  },
  {
   "cell_type": "code",
   "execution_count": 175,
   "metadata": {},
   "outputs": [
    {
     "name": "stdout",
     "output_type": "stream",
     "text": [
      "sql_db_query Input to this tool is a detailed and correct SQL query, output is a result from the database. If the query is not correct, an error message will be returned. If an error is returned, rewrite the query, check the query, and try again. If you encounter an issue with Unknown column 'xxxx' in 'field list', use sql_db_schema to query the correct table fields.\n",
      "sql_db_schema Input to this tool is a comma-separated list of tables, output is the schema and sample rows for those tables. Be sure that the tables actually exist by calling sql_db_list_tables first! Example Input: table1, table2, table3\n",
      "sql_db_list_tables Input is an empty string, output is a comma-separated list of tables in the database.\n",
      "sql_db_query_checker Use this tool to double check if your query is correct before executing it. Always use this tool before executing a query with sql_db_query!\n"
     ]
    }
   ],
   "source": [
    "toolkit= SQLDatabaseToolkit(db=db, llm=llm)\n",
    "tools=toolkit.get_tools()\n",
    "for tool in tools:\n",
    "    print(tool.name, tool.description)"
   ]
  },
  {
   "cell_type": "code",
   "execution_count": 176,
   "metadata": {},
   "outputs": [
    {
     "data": {
      "text/plain": [
       "'customers, employees, orders'"
      ]
     },
     "execution_count": 176,
     "metadata": {},
     "output_type": "execute_result"
    }
   ],
   "source": [
    "list_table=next((tool for tool in tools if tool.name == \"sql_db_list_tables\"),None)\n",
    "list_table.invoke('{customer}')"
   ]
  },
  {
   "cell_type": "code",
   "execution_count": 178,
   "metadata": {},
   "outputs": [
    {
     "data": {
      "text/plain": [
       "'\\nCREATE TABLE customers (\\n\\tcustomer_id INTEGER, \\n\\tfirst_name TEXT NOT NULL, \\n\\tlast_name TEXT NOT NULL, \\n\\temail TEXT NOT NULL, \\n\\tphone TEXT, \\n\\tPRIMARY KEY (customer_id), \\n\\tUNIQUE (email)\\n)\\n\\n/*\\n3 rows from customers table:\\ncustomer_id\\tfirst_name\\tlast_name\\temail\\tphone\\n1\\tJohn\\tDoe\\tjohn.doe@example.com\\t1234567890\\n2\\tJane\\tSmith\\tjane.smith@example.com\\t9876543210\\n3\\tEmily\\tDavis\\temily.davis@example.com\\t4567891230\\n*/'"
      ]
     },
     "execution_count": 178,
     "metadata": {},
     "output_type": "execute_result"
    }
   ],
   "source": [
    "schema=next((tool for tool in tools if tool.name == \"sql_db_schema\"),None)\n",
    "schema.invoke('customers')"
   ]
  },
  {
   "cell_type": "code",
   "execution_count": 27,
   "metadata": {},
   "outputs": [],
   "source": [
    "from langchain_core.tools import tool\n",
    "@tool\n",
    "def db_query_tool(query : str)-> str:\n",
    "    \"\"\"Execute the SQL Query and return the result.\n",
    "    If the query is not valid, return an error message.\n",
    "    In case of an error, user is advised to rewrite the query.\n",
    "    \"\"\"\n",
    "    try:\n",
    "        result = db.run_no_throw(query)\n",
    "        return result\n",
    "    except Exception as e:\n",
    "        return f\"Error executing query: {str(e)}. Please rewrite the query.\"\n",
    "    "
   ]
  },
  {
   "cell_type": "code",
   "execution_count": 179,
   "metadata": {},
   "outputs": [
    {
     "name": "stdout",
     "output_type": "stream",
     "text": [
      "[(1, 'Sunny', 'Savita', 'sunny.sv@abc.com', '2023-06-01', 50000.0), (2, 'Arhun', 'Meheta', 'arhun.m@gmail.com', '2022-04-15', 60000.0), (3, 'Alice', 'Johnson', 'alice.johnson@jpg.com', '2021-09-30', 55000.0), (4, 'Bob', 'Brown', 'bob.brown@uio.com', '2020-01-20', 45000.0)]\n"
     ]
    }
   ],
   "source": [
    "from langchain.utilities import SQLDatabase\n",
    "\n",
    "db = SQLDatabase.from_uri(\"sqlite:///mydb.db\")\n",
    "\n",
    "# Instead of db.run(), use:\n",
    "result = db.run(\"SELECT * FROM employees;\")\n",
    "print(result)"
   ]
  },
  {
   "cell_type": "code",
   "execution_count": 82,
   "metadata": {},
   "outputs": [],
   "source": [
    "from typing import Annotated, Literal\n",
    "from langchain_core.messages import AIMessage\n",
    "from langchain_core.pydantic_v1 import BaseModel, Field\n",
    "from typing_extensions import TypedDict\n",
    "from langgraph.graph import END, StateGraph, START\n",
    "from langgraph.graph.message import AnyMessage, add_messages\n",
    "from typing import Any\n",
    "from langchain_core.messages import ToolMessage\n",
    "from langchain_core.runnables import RunnableLambda, RunnableWithFallbacks\n",
    "from langgraph.prebuilt import ToolNode\n"
   ]
  },
  {
   "cell_type": "code",
   "execution_count": 92,
   "metadata": {},
   "outputs": [],
   "source": [
    "from langchain_core.prompts import ChatPromptTemplate\n",
    "\n",
    "query_check_system = \"\"\"You are a SQL expert with a strong attention to detail.\n",
    "Double check the SQLite query for common mistakes, including:\n",
    " - Using NOT IN with NULL values\n",
    " - Using UNION when UNION ALL should have been used\n",
    " - Using BETWEEN for exclusive ranges\n",
    " - Data type mismatch in predicates\n",
    " - Properly quoting identifiers\n",
    " - Using the correct number of arguments for functions\n",
    " - Casting to the correct data type\n",
    " - Using the proper columns for joins\n",
    " - Always use single quotes for string literals in SQL queries.\n",
    " - Avoid ending the query with an unmatched quote.   \n",
    "\n",
    "If there are any of the above mistakes, rewrite the query. If there are no mistakes, just reproduce the original query.\n",
    "\n",
    "You will call the appropriate tool to execute the query after running this check.\"\"\"\n",
    "\n",
    "query_check_prompt = ChatPromptTemplate.from_messages(\n",
    "    [(\"system\", query_check_system), (\"placeholder\", \"{messages}\")]\n",
    ")\n",
    "\n",
    "query_check = query_check_prompt | llm.bind_tools([db_query_tool])"
   ]
  },
  {
   "cell_type": "code",
   "execution_count": 183,
   "metadata": {},
   "outputs": [
    {
     "data": {
      "text/plain": [
       "AIMessage(content='', additional_kwargs={'tool_calls': [{'id': 'call_zyas', 'function': {'arguments': '{\"query\":\"SELECT * FROM \\\\\"customers\\\\\" LIMIT 5;\"}', 'name': 'db_query_tool'}, 'type': 'function'}]}, response_metadata={'token_usage': {'completion_tokens': 33, 'prompt_tokens': 431, 'total_tokens': 464, 'completion_time': 0.056729135, 'prompt_time': 0.025643691, 'queue_time': 0.046574639, 'total_time': 0.082372826}, 'model_name': 'llama-3.1-8b-instant', 'system_fingerprint': 'fp_510c177af0', 'finish_reason': 'tool_calls', 'logprobs': None}, id='run--5cd34f83-a906-4b60-959a-9bfd2e9cfc38-0', tool_calls=[{'name': 'db_query_tool', 'args': {'query': 'SELECT * FROM \"customers\" LIMIT 5;'}, 'id': 'call_zyas', 'type': 'tool_call'}], usage_metadata={'input_tokens': 431, 'output_tokens': 33, 'total_tokens': 464})"
      ]
     },
     "execution_count": 183,
     "metadata": {},
     "output_type": "execute_result"
    }
   ],
   "source": [
    "query_check.invoke({\"messages\": [(\"user\", \"SELECT * FROM customers LIMIT 5;\")]})"
   ]
  },
  {
   "cell_type": "code",
   "execution_count": 292,
   "metadata": {},
   "outputs": [],
   "source": [
    "class SubmitFinalAnswer(BaseModel):\n",
    "    \"\"\"Submit the final answer to the user, based on the user query\"\"\"\n",
    "    final_answer: str = Field(..., description=\"The final answer to submit to the user.\")\n",
    "\n",
    "    \n",
    "# Add a node for a model to generate a query based on the question and schema\n",
    "query_gen_system = \"\"\"You are a SQL expert with a strong attention to detail.\n",
    "\n",
    "Your task is to generate a syntactically correct **SQLite** query that answers the given user question, using only the tables and columns explicitly mentioned in the provided database schema.\n",
    "\n",
    "### IMPORTANT RULES:\n",
    "\n",
    "- 🧠 **Query Writing Guidelines**:\n",
    "  - Use **only the tables and columns** shown in the schema above.\n",
    "  - Do **not query all columns** (avoid `SELECT *`) unless explicitly required. Use only relevant columns.\n",
    "  - If the user doesn't specify a count, limit results to **5 rows maximum** using `LIMIT 5`.\n",
    "  - You may use `ORDER BY` to make the result more relevant or insightful.\n",
    "  - Do **not** make any **DML or DDL statements** like `INSERT`, `UPDATE`, `DELETE`, `DROP`.\n",
    "\n",
    "- ⚠️ **Error Handling**:\n",
    "  - If you hit a syntax or execution error while running the query, revise and retry.\n",
    "  - If the query returns **no results**, rewrite it to yield a meaningful output.\n",
    "  - If there is not enough information to write a valid query (e.g. missing filters or ambiguous table), clearly say:\n",
    "    `\"I don't have enough information to answer that.\"`\n",
    "\n",
    "\n",
    "If the question requires retrieving actual values from the database (like highest amount, counts, names), generate a SQL query to get those values.\n",
    "\n",
    "Otherwise, DO NOT guess the answer — generate a SQL query to get it.\n",
    "\n",
    "Strictly Output only SQL Query\n",
    "\"\"\"\n",
    "\n",
    "query_gen_prompt = ChatPromptTemplate.from_messages(\n",
    "    [(\"system\", query_gen_system), (\"placeholder\", \"{messages}\")]\n",
    ")\n",
    "\n",
    "query_gen = query_gen_prompt | llm.bind_tools([SubmitFinalAnswer])\n"
   ]
  },
  {
   "cell_type": "code",
   "execution_count": 293,
   "metadata": {},
   "outputs": [],
   "source": [
    "list_tables_tool = next((tool for tool in tools if tool.name == \"sql_db_list_tables\"), None)\n",
    "get_schema_tool = next((tool for tool in tools if tool.name == \"sql_db_schema\"), None)\n"
   ]
  },
  {
   "cell_type": "code",
   "execution_count": 294,
   "metadata": {},
   "outputs": [
    {
     "data": {
      "text/plain": [
       "'\\nCREATE TABLE employees (\\n\\temp_id INTEGER, \\n\\tfirst_name TEXT NOT NULL, \\n\\tlast_name TEXT NOT NULL, \\n\\temail TEXT NOT NULL, \\n\\thire_date TEXT NOT NULL, \\n\\tsalary REAL NOT NULL, \\n\\tPRIMARY KEY (emp_id), \\n\\tUNIQUE (email)\\n)\\n\\n/*\\n3 rows from employees table:\\nemp_id\\tfirst_name\\tlast_name\\temail\\thire_date\\tsalary\\n1\\tSunny\\tSavita\\tsunny.sv@abc.com\\t2023-06-01\\t50000.0\\n2\\tArhun\\tMeheta\\tarhun.m@gmail.com\\t2022-04-15\\t60000.0\\n3\\tAlice\\tJohnson\\talice.johnson@jpg.com\\t2021-09-30\\t55000.0\\n*/'"
      ]
     },
     "execution_count": 294,
     "metadata": {},
     "output_type": "execute_result"
    }
   ],
   "source": [
    "get_schema_tool.invoke(\"employees\")"
   ]
  },
  {
   "cell_type": "code",
   "execution_count": 295,
   "metadata": {},
   "outputs": [
    {
     "data": {
      "text/plain": [
       "'customers, employees, orders'"
      ]
     },
     "execution_count": 295,
     "metadata": {},
     "output_type": "execute_result"
    }
   ],
   "source": [
    "llm_to_get_schema=llm.bind_tools([get_schema_tool])\n",
    "list_tables_tool.invoke(\"\")\n"
   ]
  },
  {
   "cell_type": "code",
   "execution_count": 296,
   "metadata": {},
   "outputs": [],
   "source": [
    "class State(TypedDict):\n",
    "    messages: Annotated[list[AnyMessage],add_messages]"
   ]
  },
  {
   "cell_type": "code",
   "execution_count": 297,
   "metadata": {},
   "outputs": [],
   "source": [
    "def first_tool_call(state:State)->dict[str,list[AIMessage]]:\n",
    "    return{\"messages\": [AIMessage(content=\"\",tool_calls=[{\"name\":\"sql_db_list_tables\",\"args\":{},\"id\":\"tool_abcd123\"}])]}"
   ]
  },
  {
   "cell_type": "code",
   "execution_count": 298,
   "metadata": {},
   "outputs": [],
   "source": [
    "def handle_tool_error(state:State):\n",
    "    error = state.get(\"error\") \n",
    "    tool_calls = state[\"messages\"][-1].tool_calls\n",
    "    return { \"messages\": [ ToolMessage(content=f\"Error: {repr(error)}\\n please fix your mistakes.\",tool_call_id=tc[\"id\"],) for tc in tool_calls ] }"
   ]
  },
  {
   "cell_type": "code",
   "execution_count": 299,
   "metadata": {},
   "outputs": [],
   "source": [
    "def create_node_from_tool_with_fallback(tools:list)-> RunnableWithFallbacks[Any, dict]:\n",
    "    return ToolNode(tools).with_fallbacks([RunnableLambda(handle_tool_error)], exception_key=\"error\")"
   ]
  },
  {
   "cell_type": "code",
   "execution_count": 300,
   "metadata": {},
   "outputs": [],
   "source": [
    "def check_the_given_query(state:State):\n",
    "    return {\"messages\": [query_check.invoke({\"messages\": [state[\"messages\"][-1]]})]}"
   ]
  },
  {
   "cell_type": "code",
   "execution_count": 301,
   "metadata": {},
   "outputs": [],
   "source": [
    "def generation_query(state: State):\n",
    "    # Extract latest human message\n",
    "    user_msg = next((m for m in reversed(state[\"messages\"]) if m.type == \"human\"), None)\n",
    "\n",
    "    # Extract tool messages from earlier nodes\n",
    "    table_msg = next((m for m in reversed(state[\"messages\"])\n",
    "                      if isinstance(m, ToolMessage) and m.name == \"sql_db_list_tables\"), None)\n",
    "    schema_msg = next((m for m in reversed(state[\"messages\"])\n",
    "                       if isinstance(m, ToolMessage) and m.name == \"sql_db_schema\"), None)\n",
    "\n",
    "    # Construct enriched prompt\n",
    "    full_context = []\n",
    "\n",
    "    if table_msg:\n",
    "        full_context.append(\n",
    "            AIMessage(content=f\"Here are the available tables in the database:\\n\\n{table_msg.content}\")\n",
    "        )\n",
    "\n",
    "    if schema_msg:\n",
    "        # ✅ Clean schema content by removing sample rows\n",
    "        cleaned_schema = schema_msg.content.split(\"/*\")[0].strip()\n",
    "        full_context.append(\n",
    "            AIMessage(content=f\"Here is the schema of the relevant tables:\\n\\n{cleaned_schema}\")\n",
    "        )\n",
    "\n",
    "    if user_msg:\n",
    "        full_context.append(user_msg)\n",
    "\n",
    "    \n",
    "\n",
    "    # DEBUG: Show injected context\n",
    "    print(\"\\n🧠 QUERY_GEN CONTEXT:\")\n",
    "    for msg in full_context:\n",
    "        print(f\"{msg.type.upper()}: {msg.content.strip()[:300]}...\\n\")\n",
    "\n",
    "    # Run the LLM to generate the query\n",
    "    message = query_gen.invoke({\"messages\": full_context})\n",
    "\n",
    "    # Check if LLM incorrectly called a non-approved tool\n",
    "    tool_messages = []\n",
    "    if message.tool_calls:\n",
    "        for tc in message.tool_calls:\n",
    "            if tc[\"name\"] != \"SubmitFinalAnswer\":\n",
    "                tool_messages.append(\n",
    "                    ToolMessage(\n",
    "                        content=(\n",
    "                            f\"Error: The wrong tool was called: {tc['name']}. \"\n",
    "                            f\"Please fix your mistakes. Remember to only call SubmitFinalAnswer \"\n",
    "                            f\"to submit the final answer. Generated queries should be outputted \"\n",
    "                            f\"WITHOUT a tool call.\"\n",
    "                        ),\n",
    "                        tool_call_id=tc[\"id\"],\n",
    "                    )\n",
    "                )\n",
    "\n",
    "    return {\"messages\": [message] + tool_messages}\n"
   ]
  },
  {
   "cell_type": "code",
   "execution_count": 302,
   "metadata": {},
   "outputs": [],
   "source": [
    "def should_continue(state:State):\n",
    "    messages = state[\"messages\"]\n",
    "    last_message = messages[-1]\n",
    "    if getattr(last_message, \"tool_calls\", None):\n",
    "        return END\n",
    "    if last_message.content.startswith(\"Error:\"):\n",
    "        return \"query_gen\"\n",
    "    else:\n",
    "        return \"correct_query\""
   ]
  },
  {
   "cell_type": "code",
   "execution_count": 303,
   "metadata": {},
   "outputs": [],
   "source": [
    "def llm_get_schema(state:State):\n",
    "    print(\"this is my state\", state)\n",
    "    response = llm_to_get_schema.invoke(state[\"messages\"])\n",
    "    return {\"messages\": [response]}"
   ]
  },
  {
   "cell_type": "code",
   "execution_count": 304,
   "metadata": {},
   "outputs": [],
   "source": [
    "list_tables=create_node_from_tool_with_fallback([list_tables_tool])\n"
   ]
  },
  {
   "cell_type": "code",
   "execution_count": 305,
   "metadata": {},
   "outputs": [],
   "source": [
    "get_schema=create_node_from_tool_with_fallback([get_schema_tool])\n"
   ]
  },
  {
   "cell_type": "code",
   "execution_count": 306,
   "metadata": {},
   "outputs": [],
   "source": [
    "query_database=create_node_from_tool_with_fallback([db_query_tool])\n"
   ]
  },
  {
   "cell_type": "code",
   "execution_count": 307,
   "metadata": {},
   "outputs": [],
   "source": [
    "class State(TypedDict):\n",
    "    messages: Annotated[list[AnyMessage], add_messages]\n"
   ]
  },
  {
   "cell_type": "code",
   "execution_count": 308,
   "metadata": {},
   "outputs": [
    {
     "data": {
      "text/plain": [
       "<langgraph.graph.state.StateGraph at 0x123982150>"
      ]
     },
     "execution_count": 308,
     "metadata": {},
     "output_type": "execute_result"
    }
   ],
   "source": [
    "workflow = StateGraph(State)\n",
    "workflow.add_node(\"first_tool_call\",first_tool_call)\n",
    "workflow.add_node(\"list_tables_tool\", list_tables)\n",
    "workflow.add_node(\"get_schema_tool\", get_schema)\n",
    "workflow.add_node(\"model_get_schema\", llm_get_schema)\n",
    "workflow.add_node(\"query_gen\", generation_query)\n",
    "workflow.add_node(\"correct_query\", check_the_given_query)\n",
    "workflow.add_node(\"execute_query\", query_database)"
   ]
  },
  {
   "cell_type": "code",
   "execution_count": 309,
   "metadata": {},
   "outputs": [
    {
     "data": {
      "text/plain": [
       "<langgraph.graph.state.StateGraph at 0x123982150>"
      ]
     },
     "execution_count": 309,
     "metadata": {},
     "output_type": "execute_result"
    }
   ],
   "source": [
    "workflow.add_edge(START, \"first_tool_call\")\n",
    "workflow.add_edge(\"first_tool_call\", \"list_tables_tool\")\n",
    "workflow.add_edge(\"list_tables_tool\", \"model_get_schema\")\n",
    "workflow.add_edge(\"model_get_schema\", \"get_schema_tool\")\n",
    "workflow.add_edge(\"get_schema_tool\", \"query_gen\")\n",
    "workflow.add_conditional_edges(\"query_gen\",should_continue,\n",
    "                            {END:END,\n",
    "                            \"correct_query\":\"correct_query\"})\n",
    "workflow.add_edge(\"correct_query\", \"execute_query\")\n",
    "workflow.add_edge(\"execute_query\", \"query_gen\")"
   ]
  },
  {
   "cell_type": "code",
   "execution_count": 310,
   "metadata": {},
   "outputs": [],
   "source": [
    "app=workflow.compile()\n"
   ]
  },
  {
   "cell_type": "code",
   "execution_count": 311,
   "metadata": {},
   "outputs": [
    {
     "data": {
      "image/png": "[encoded data removed]",
      "text/plain": [
       "<IPython.core.display.Image object>"
      ]
     },
     "metadata": {},
     "output_type": "display_data"
    }
   ],
   "source": [
    "from IPython.display import Image, display\n",
    "from langchain_core.runnables.graph import MermaidDrawMethod\n",
    "\n",
    "display(\n",
    "    Image(\n",
    "        app.get_graph().draw_mermaid_png(\n",
    "            draw_method=MermaidDrawMethod.API,\n",
    "        )\n",
    "    )\n",
    ")"
   ]
  },
  {
   "cell_type": "code",
   "execution_count": 312,
   "metadata": {},
   "outputs": [
    {
     "name": "stdout",
     "output_type": "stream",
     "text": [
      "🔄 Step: {'first_tool_call': {'messages': [AIMessage(content='', additional_kwargs={}, response_metadata={}, id='7c6f17f8-61e3-4633-985c-a5c9b8d1a6d8', tool_calls=[{'name': 'sql_db_list_tables', 'args': {}, 'id': 'tool_abcd123', 'type': 'tool_call'}])]}}\n",
      "🔄 Step: {'list_tables_tool': {'messages': [ToolMessage(content='customers, employees, orders', name='sql_db_list_tables', id='790491fb-ebe1-4ed5-9e5e-1dec27831bba', tool_call_id='tool_abcd123')]}}\n",
      "this is my state {'messages': [HumanMessage(content='List all the users', additional_kwargs={}, response_metadata={}, id='32af1191-827d-4e9b-896a-4a0a8d4c04b0'), AIMessage(content='', additional_kwargs={}, response_metadata={}, id='7c6f17f8-61e3-4633-985c-a5c9b8d1a6d8', tool_calls=[{'name': 'sql_db_list_tables', 'args': {}, 'id': 'tool_abcd123', 'type': 'tool_call'}]), ToolMessage(content='customers, employees, orders', name='sql_db_list_tables', id='790491fb-ebe1-4ed5-9e5e-1dec27831bba', tool_call_id='tool_abcd123')]}\n",
      "🔄 Step: {'model_get_schema': {'messages': [AIMessage(content='', additional_kwargs={'tool_calls': [{'id': 'call_s0nz', 'function': {'arguments': '{\"table_names\":\"customers, employees, orders\"}', 'name': 'sql_db_schema'}, 'type': 'function'}]}, response_metadata={'token_usage': {'completion_tokens': 21, 'prompt_tokens': 364, 'total_tokens': 385, 'completion_time': 0.028, 'prompt_time': 0.021579698, 'queue_time': 0.046701431999999994, 'total_time': 0.049579698}, 'model_name': 'llama-3.1-8b-instant', 'system_fingerprint': 'fp_55d70a61e4', 'finish_reason': 'tool_calls', 'logprobs': None}, id='run--3e460b24-0df8-4107-970b-b39b6a4ff0bd-0', tool_calls=[{'name': 'sql_db_schema', 'args': {'table_names': 'customers, employees, orders'}, 'id': 'call_s0nz', 'type': 'tool_call'}], usage_metadata={'input_tokens': 364, 'output_tokens': 21, 'total_tokens': 385})]}}\n",
      "🔄 Step: {'get_schema_tool': {'messages': [ToolMessage(content='\\nCREATE TABLE customers (\\n\\tcustomer_id INTEGER, \\n\\tfirst_name TEXT NOT NULL, \\n\\tlast_name TEXT NOT NULL, \\n\\temail TEXT NOT NULL, \\n\\tphone TEXT, \\n\\tPRIMARY KEY (customer_id), \\n\\tUNIQUE (email)\\n)\\n\\n/*\\n3 rows from customers table:\\ncustomer_id\\tfirst_name\\tlast_name\\temail\\tphone\\n1\\tJohn\\tDoe\\tjohn.doe@example.com\\t1234567890\\n2\\tJane\\tSmith\\tjane.smith@example.com\\t9876543210\\n3\\tEmily\\tDavis\\temily.davis@example.com\\t4567891230\\n*/\\n\\n\\nCREATE TABLE employees (\\n\\temp_id INTEGER, \\n\\tfirst_name TEXT NOT NULL, \\n\\tlast_name TEXT NOT NULL, \\n\\temail TEXT NOT NULL, \\n\\thire_date TEXT NOT NULL, \\n\\tsalary REAL NOT NULL, \\n\\tPRIMARY KEY (emp_id), \\n\\tUNIQUE (email)\\n)\\n\\n/*\\n3 rows from employees table:\\nemp_id\\tfirst_name\\tlast_name\\temail\\thire_date\\tsalary\\n1\\tSunny\\tSavita\\tsunny.sv@abc.com\\t2023-06-01\\t50000.0\\n2\\tArhun\\tMeheta\\tarhun.m@gmail.com\\t2022-04-15\\t60000.0\\n3\\tAlice\\tJohnson\\talice.johnson@jpg.com\\t2021-09-30\\t55000.0\\n*/\\n\\n\\nCREATE TABLE orders (\\n\\torder_id INTEGER, \\n\\tcustomer_id INTEGER NOT NULL, \\n\\torder_date TEXT NOT NULL, \\n\\tamount REAL NOT NULL, \\n\\tPRIMARY KEY (order_id), \\n\\tFOREIGN KEY(customer_id) REFERENCES customers (customer_id)\\n)\\n\\n/*\\n3 rows from orders table:\\norder_id\\tcustomer_id\\torder_date\\tamount\\n1\\t1\\t2023-12-01\\t250.75\\n2\\t2\\t2023-11-20\\t150.5\\n3\\t3\\t2023-11-25\\t300.0\\n*/', name='sql_db_schema', id='e63fa2ec-48c3-4a79-95da-175d8af7cbc0', tool_call_id='call_s0nz')]}}\n",
      "\n",
      "🧠 QUERY_GEN CONTEXT:\n",
      "AI: Here are the available tables in the database:\n",
      "\n",
      "customers, employees, orders...\n",
      "\n",
      "AI: Here is the schema of the relevant tables:\n",
      "\n",
      "CREATE TABLE customers (\n",
      "\tcustomer_id INTEGER, \n",
      "\tfirst_name TEXT NOT NULL, \n",
      "\tlast_name TEXT NOT NULL, \n",
      "\temail TEXT NOT NULL, \n",
      "\tphone TEXT, \n",
      "\tPRIMARY KEY (customer_id), \n",
      "\tUNIQUE (email)\n",
      ")...\n",
      "\n",
      "HUMAN: List all the users...\n",
      "\n",
      "🔄 Step: {'query_gen': {'messages': [AIMessage(content='', additional_kwargs={'tool_calls': [{'id': 'call_hf02', 'function': {'arguments': '{\"final_answer\":\"SELECT * FROM customers LIMIT 5;\"}', 'name': 'SubmitFinalAnswer'}, 'type': 'function'}]}, response_metadata={'token_usage': {'completion_tokens': 24, 'prompt_tokens': 638, 'total_tokens': 662, 'completion_time': 0.04610794, 'prompt_time': 0.037809149, 'queue_time': 0.046012660999999996, 'total_time': 0.083917089}, 'model_name': 'llama-3.1-8b-instant', 'system_fingerprint': 'fp_510c177af0', 'finish_reason': 'tool_calls', 'logprobs': None}, id='run--d86e4601-f4c1-4a6a-ada5-2c9c2401993d-0', tool_calls=[{'name': 'SubmitFinalAnswer', 'args': {'final_answer': 'SELECT * FROM customers LIMIT 5;'}, 'id': 'call_hf02', 'type': 'tool_call'}], usage_metadata={'input_tokens': 638, 'output_tokens': 24, 'total_tokens': 662})]}}\n"
     ]
    }
   ],
   "source": [
    "query={\"messages\": [(\"user\", \"List all the users\")]}\n",
    "for step in app.stream(query):\n",
    "    print(\"🔄 Step:\", step)\n",
    "# response=app.invoke(query)"
   ]
  },
  {
   "cell_type": "code",
   "execution_count": 141,
   "metadata": {},
   "outputs": [],
   "source": [
    "from langchain_core.messages import BaseMessage, HumanMessage\n"
   ]
  },
  {
   "cell_type": "code",
   "execution_count": 207,
   "metadata": {},
   "outputs": [
    {
     "data": {
      "text/plain": [
       "AIMessage(content='', additional_kwargs={'tool_calls': [{'id': 'call_17gw', 'function': {'arguments': '{\"table_names\":\"customers,employees,orders\"}', 'name': 'sql_db_schema'}, 'type': 'function'}]}, response_metadata={'token_usage': {'completion_tokens': 21, 'prompt_tokens': 366, 'total_tokens': 387, 'completion_time': 0.028, 'prompt_time': 0.021652021, 'queue_time': 0.044962868999999996, 'total_time': 0.049652021}, 'model_name': 'llama-3.1-8b-instant', 'system_fingerprint': 'fp_55d70a61e4', 'finish_reason': 'tool_calls', 'logprobs': None}, id='run--4e26c404-ee79-477c-af3f-93bc72058162-0', tool_calls=[{'name': 'sql_db_schema', 'args': {'table_names': 'customers,employees,orders'}, 'id': 'call_17gw', 'type': 'tool_call'}], usage_metadata={'input_tokens': 366, 'output_tokens': 21, 'total_tokens': 387})"
      ]
     },
     "execution_count": 207,
     "metadata": {},
     "output_type": "execute_result"
    }
   ],
   "source": [
    "llm_to_get_schema.invoke([HumanMessage(content='List all customer with their email', additional_kwargs={}, response_metadata={}, id='0571873a-df8f-4673-942c-ea73a052f7d6'), AIMessage(content='', additional_kwargs={}, response_metadata={}, id='bcaf622f-b11e-4502-b5ef-0b784bc5bdf1', tool_calls=[{'name': 'sql_db_list_tables', 'args': {}, 'id': 'tool_abcd123', 'type': 'tool_call'}]), ToolMessage(content='customers, employees, orders', name='sql_db_list_tables', id='a48f6154-23de-47f0-887c-2888405ced08', tool_call_id='tool_abcd123')])\n"
   ]
  },
  {
   "cell_type": "code",
   "execution_count": 320,
   "metadata": {},
   "outputs": [
    {
     "name": "stdout",
     "output_type": "stream",
     "text": [
      "🔄 Step: {'first_tool_call': {'messages': [AIMessage(content='', additional_kwargs={}, response_metadata={}, id='eeb6de88-e0d4-440c-964b-1393b95d5cae', tool_calls=[{'name': 'sql_db_list_tables', 'args': {}, 'id': 'tool_abcd123', 'type': 'tool_call'}])]}}\n",
      "🔄 Step: {'list_tables_tool': {'messages': [ToolMessage(content='customers, employees, orders', name='sql_db_list_tables', id='0e6212df-ce01-40d3-9338-32f54f539def', tool_call_id='tool_abcd123')]}}\n",
      "this is my state {'messages': [HumanMessage(content=\"Show all customers whose email contains 'example.com'\", additional_kwargs={}, response_metadata={}, id='ac8fcd8a-648f-4898-8417-0cc4a0acda83'), AIMessage(content='', additional_kwargs={}, response_metadata={}, id='eeb6de88-e0d4-440c-964b-1393b95d5cae', tool_calls=[{'name': 'sql_db_list_tables', 'args': {}, 'id': 'tool_abcd123', 'type': 'tool_call'}]), ToolMessage(content='customers, employees, orders', name='sql_db_list_tables', id='0e6212df-ce01-40d3-9338-32f54f539def', tool_call_id='tool_abcd123')]}\n",
      "🔄 Step: {'model_get_schema': {'messages': [AIMessage(content='', additional_kwargs={'tool_calls': [{'id': 'call_6qxy', 'function': {'arguments': '{\"table_names\":\"customers,employees,orders\"}', 'name': 'sql_db_schema'}, 'type': 'function'}]}, response_metadata={'token_usage': {'completion_tokens': 21, 'prompt_tokens': 370, 'total_tokens': 391, 'completion_time': 0.028, 'prompt_time': 0.025431069, 'queue_time': 0.046490401, 'total_time': 0.053431069}, 'model_name': 'llama-3.1-8b-instant', 'system_fingerprint': 'fp_55d70a61e4', 'finish_reason': 'tool_calls', 'logprobs': None}, id='run--8af2d3b1-2f60-453d-8607-3b4eb4c22c68-0', tool_calls=[{'name': 'sql_db_schema', 'args': {'table_names': 'customers,employees,orders'}, 'id': 'call_6qxy', 'type': 'tool_call'}], usage_metadata={'input_tokens': 370, 'output_tokens': 21, 'total_tokens': 391})]}}\n",
      "🔄 Step: {'get_schema_tool': {'messages': [ToolMessage(content='\\nCREATE TABLE customers (\\n\\tcustomer_id INTEGER, \\n\\tfirst_name TEXT NOT NULL, \\n\\tlast_name TEXT NOT NULL, \\n\\temail TEXT NOT NULL, \\n\\tphone TEXT, \\n\\tPRIMARY KEY (customer_id), \\n\\tUNIQUE (email)\\n)\\n\\n/*\\n3 rows from customers table:\\ncustomer_id\\tfirst_name\\tlast_name\\temail\\tphone\\n1\\tJohn\\tDoe\\tjohn.doe@example.com\\t1234567890\\n2\\tJane\\tSmith\\tjane.smith@example.com\\t9876543210\\n3\\tEmily\\tDavis\\temily.davis@example.com\\t4567891230\\n*/\\n\\n\\nCREATE TABLE employees (\\n\\temp_id INTEGER, \\n\\tfirst_name TEXT NOT NULL, \\n\\tlast_name TEXT NOT NULL, \\n\\temail TEXT NOT NULL, \\n\\thire_date TEXT NOT NULL, \\n\\tsalary REAL NOT NULL, \\n\\tPRIMARY KEY (emp_id), \\n\\tUNIQUE (email)\\n)\\n\\n/*\\n3 rows from employees table:\\nemp_id\\tfirst_name\\tlast_name\\temail\\thire_date\\tsalary\\n1\\tSunny\\tSavita\\tsunny.sv@abc.com\\t2023-06-01\\t50000.0\\n2\\tArhun\\tMeheta\\tarhun.m@gmail.com\\t2022-04-15\\t60000.0\\n3\\tAlice\\tJohnson\\talice.johnson@jpg.com\\t2021-09-30\\t55000.0\\n*/\\n\\n\\nCREATE TABLE orders (\\n\\torder_id INTEGER, \\n\\tcustomer_id INTEGER NOT NULL, \\n\\torder_date TEXT NOT NULL, \\n\\tamount REAL NOT NULL, \\n\\tPRIMARY KEY (order_id), \\n\\tFOREIGN KEY(customer_id) REFERENCES customers (customer_id)\\n)\\n\\n/*\\n3 rows from orders table:\\norder_id\\tcustomer_id\\torder_date\\tamount\\n1\\t1\\t2023-12-01\\t250.75\\n2\\t2\\t2023-11-20\\t150.5\\n3\\t3\\t2023-11-25\\t300.0\\n*/', name='sql_db_schema', id='8ae93bd2-4678-4c3b-b85f-2fb2887d6d5e', tool_call_id='call_6qxy')]}}\n",
      "\n",
      "🧠 QUERY_GEN CONTEXT:\n",
      "AI: Here are the available tables in the database:\n",
      "\n",
      "customers, employees, orders...\n",
      "\n",
      "AI: Here is the schema of the relevant tables:\n",
      "\n",
      "CREATE TABLE customers (\n",
      "\tcustomer_id INTEGER, \n",
      "\tfirst_name TEXT NOT NULL, \n",
      "\tlast_name TEXT NOT NULL, \n",
      "\temail TEXT NOT NULL, \n",
      "\tphone TEXT, \n",
      "\tPRIMARY KEY (customer_id), \n",
      "\tUNIQUE (email)\n",
      ")...\n",
      "\n",
      "HUMAN: Show all customers whose email contains 'example.com'...\n",
      "\n",
      "🔄 Step: {'query_gen': {'messages': [AIMessage(content='', additional_kwargs={'tool_calls': [{'id': 'call_6btx', 'function': {'arguments': '{\"final_answer\":\"SELECT * FROM customers WHERE email LIKE \\'%example.com\\';\"}', 'name': 'SubmitFinalAnswer'}, 'type': 'function'}]}, response_metadata={'token_usage': {'completion_tokens': 27, 'prompt_tokens': 644, 'total_tokens': 671, 'completion_time': 0.047294979, 'prompt_time': 0.038163917, 'queue_time': 0.044811832, 'total_time': 0.085458896}, 'model_name': 'llama-3.1-8b-instant', 'system_fingerprint': 'fp_55d70a61e4', 'finish_reason': 'tool_calls', 'logprobs': None}, id='run--c5a50593-4434-4179-86c4-dd692b37e957-0', tool_calls=[{'name': 'SubmitFinalAnswer', 'args': {'final_answer': \"SELECT * FROM customers WHERE email LIKE '%example.com';\"}, 'id': 'call_6btx', 'type': 'tool_call'}], usage_metadata={'input_tokens': 644, 'output_tokens': 27, 'total_tokens': 671})]}}\n",
      "🧠 QUERY_GEN output: [{'name': 'SubmitFinalAnswer', 'args': {'final_answer': \"SELECT * FROM customers WHERE email LIKE '%example.com';\"}, 'id': 'call_6btx', 'type': 'tool_call'}]\n"
     ]
    }
   ],
   "source": [
    "query={\"messages\": [(\"user\", \"Show all customers whose email contains 'example.com'\")]}\n",
    "for step in app.stream(query):\n",
    "    print(\"🔄 Step:\", step)\n",
    "    if \"query_gen\" in step:\n",
    "        msg = step[\"query_gen\"][\"messages\"][-1]\n",
    "        print(\"🧠 QUERY_GEN output:\", msg.content or msg.tool_calls)\n"
   ]
  },
  {
   "cell_type": "code",
   "execution_count": 322,
   "metadata": {},
   "outputs": [
    {
     "name": "stdout",
     "output_type": "stream",
     "text": [
      "Notebook updated: June 7, 2025\n"
     ]
    }
   ],
   "source": [
    "print(\"Notebook updated: June 7, 2025\")\n"
   ]
  },
  {
   "cell_type": "code",
   "execution_count": 321,
   "metadata": {},
   "outputs": [
    {
     "name": "stdout",
     "output_type": "stream",
     "text": [
      "🧾 Executing: SELECT * FROM customers WHERE email LIKE '%example.com';\n",
      "[(1, 'John', 'Doe', 'john.doe@example.com', '1234567890'), (2, 'Jane', 'Smith', 'jane.smith@example.com', '9876543210'), (3, 'Emily', 'Davis', 'emily.davis@example.com', '4567891230'), (4, 'Michael', 'Brown', 'michael.brown@example.com', '7894561230')]\n"
     ]
    }
   ],
   "source": [
    "sql_query = msg.tool_calls[0]['args']['final_answer']\n",
    "print(\"🧾 Executing:\", sql_query)\n",
    "result = db.run(sql_query)\n",
    "print(result)\n"
   ]
  },
  {
   "cell_type": "code",
   "execution_count": null,
   "metadata": {},
   "outputs": [],
   "source": []
  },
  {
   "cell_type": "code",
   "execution_count": null,
   "metadata": {},
   "outputs": [],
   "source": []
  }
 ],
 "metadata": {
  "kernelspec": {
   "display_name": ".venv",
   "language": "python",
   "name": "python3"
  },
  "language_info": {
   "codemirror_mode": {
    "name": "ipython",
    "version": 3
   },
   "file_extension": ".py",
   "mimetype": "text/x-python",
   "name": "python",
   "nbconvert_exporter": "python",
   "pygments_lexer": "ipython3",
   "version": "3.13.3"
  }
 },
 "nbformat": 4,
 "nbformat_minor": 2
}
