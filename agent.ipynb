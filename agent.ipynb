{
 "cells": [
  {
   "cell_type": "code",
   "execution_count": 1,
   "metadata": {},
   "outputs": [],
   "source": [
    "import sqlite3"
   ]
  },
  {
   "cell_type": "code",
   "execution_count": 2,
   "metadata": {},
   "outputs": [],
   "source": [
    "conn=sqlite3.connect('example.db')"
   ]
  },
  {
   "cell_type": "code",
   "execution_count": null,
   "metadata": {},
   "outputs": [],
   "source": [
    "conn"
   ]
  },
  {
   "cell_type": "code",
   "execution_count": null,
   "metadata": {},
   "outputs": [],
   "source": [
    "conn.execute(\"\"\"CREATE TABLE IF NOT EXISTS users (id INTEGER PRIMARY KEY,\n",
    "              name TEXT, \n",
    "            age INTEGER\n",
    "             salary REAL not null)\"\"\") "
   ]
  },
  {
   "cell_type": "code",
   "execution_count": null,
   "metadata": {},
   "outputs": [],
   "source": [
    "conn.execute(\"\"\"CREATE TABLE IF NOT EXISTS employes (id INTEGER PRIMARY KEY,\n",
    "              first_name TEXT, \n",
    "            age INTEGER,\n",
    "             email REAL not null)\"\"\") "
   ]
  },
  {
   "cell_type": "code",
   "execution_count": null,
   "metadata": {},
   "outputs": [],
   "source": [
    "\n",
    "conn.execute(\"\"\"CREATE TABLE IF NOT EXISTS customer (\n",
    "                          id INTEGER PRIMARY KEY,\n",
    "                          first_name TEXT NOT NULL,\n",
    "                          last_name TEXT NOT NULL,\n",
    "                          age INTEGER,\n",
    "                          email TEXT NOT NULL,\n",
    "                          phone_number TEXT,\n",
    "                          address TEXT\n",
    "                         )\"\"\")"
   ]
  },
  {
   "cell_type": "code",
   "execution_count": null,
   "metadata": {
    "vscode": {
     "languageId": "sql"
    }
   },
   "outputs": [],
   "source": [
    "# Drop the existing 'users' table\n",
    "conn.execute(\"DROP TABLE IF EXISTS users\")\n",
    "\n",
    "# Create the 'users' table with the correct schema\n",
    "conn.execute(\"\"\"\n",
    "CREATE TABLE users (\n",
    "    id INTEGER PRIMARY KEY,\n",
    "    name TEXT, \n",
    "    age INTEGER,\n",
    "    salary REAL NOT NULL\n",
    ")\n",
    "\"\"\")\n",
    "\n",
    "# Insert data into the 'users' table\n",
    "conn.execute(\"\"\"\n",
    "INSERT INTO users (id, name, age, salary) \n",
    "VALUES \n",
    "(1, 'John Doe', 30, 50000.0),\n",
    "(2, 'Jane Doe', 25, 60000.0),\n",
    "(3, 'Alice Smith', 40, 70000.0),\n",
    "(4, 'Bob Brown', 35, 55000.0),\n",
    "(5, 'Charlie White', 28, 48000.0)\n",
    "\"\"\")"
   ]
  },
  {
   "cell_type": "code",
   "execution_count": null,
   "metadata": {},
   "outputs": [],
   "source": [
    "conn.execute(\"\"\"\n",
    "            INSERT INTO employes (id, first_name, age, email) \n",
    "            VALUES \n",
    "            (1, 'Emily', 29, 'emily@example.com'),\n",
    "            (2, 'Michael', 35, 'michael@example.com'),\n",
    "            (3, 'Sarah', 42, 'sarah@example.com'),\n",
    "            (4, 'David', 31, 'david@example.com'),\n",
    "            (5, 'Laura', 27, 'laura@example.com')\n",
    "            \"\"\")"
   ]
  },
  {
   "cell_type": "code",
   "execution_count": null,
   "metadata": {},
   "outputs": [],
   "source": [
    "conn.execute(\"\"\"\n",
    "                        INSERT INTO customer(id, first_name, last_name, age, email, phone_number, address) \n",
    "                        VALUES \n",
    "                        (1, 'John', 'Doe', 30, 'john.doe@example.com', '123-456-7890', '123 Elm Street'),\n",
    "                        (2, 'Jane', 'Smith', 25, 'jane.smith@example.com', '987-654-3210', '456 Oak Avenue'),\n",
    "                        (3, 'Alice', 'Johnson', 40, 'alice.johnson@example.com', '555-555-5555', '789 Pine Road'),\n",
    "                        (4, 'Bob', 'Williams', 35, 'bob.williams@example.com', '111-222-3333', '321 Maple Lane'),\n",
    "                        (5, 'Charlie', 'Brown', 28, 'charlie.brown@example.com', '444-444-4444', '654 Cedar Drive')\n",
    "                        \"\"\")"
   ]
  },
  {
   "cell_type": "code",
   "execution_count": 111,
   "metadata": {},
   "outputs": [
    {
     "name": "stdout",
     "output_type": "stream",
     "text": [
      "(1, 'Emily', 29, 'emily@example.com')\n",
      "(2, 'Michael', 35, 'michael@example.com')\n",
      "(3, 'Sarah', 42, 'sarah@example.com')\n",
      "(4, 'David', 31, 'david@example.com')\n",
      "(5, 'Laura', 27, 'laura@example.com')\n"
     ]
    }
   ],
   "source": [
    "cursor = conn.execute(\"SELECT * FROM employes\")\n",
    "for row in cursor:\n",
    "    print(row)"
   ]
  },
  {
   "cell_type": "code",
   "execution_count": null,
   "metadata": {},
   "outputs": [],
   "source": [
    "# Install the langchain-community package\n",
    "%pip install langchain-community\n",
    "\n",
    "# Import the SQLDatabase module\n",
    "# from langchain_community.utilities import SQLDatabase"
   ]
  },
  {
   "cell_type": "code",
   "execution_count": 39,
   "metadata": {},
   "outputs": [],
   "source": [
    "from langchain_community.utilities import SQLDatabase"
   ]
  },
  {
   "cell_type": "code",
   "execution_count": 40,
   "metadata": {},
   "outputs": [],
   "source": [
    "db= SQLDatabase.from_uri(\"sqlite:///example.db\")"
   ]
  },
  {
   "cell_type": "code",
   "execution_count": null,
   "metadata": {},
   "outputs": [],
   "source": [
    "db.get_usable_table_names()"
   ]
  },
  {
   "cell_type": "code",
   "execution_count": null,
   "metadata": {},
   "outputs": [],
   "source": [
    "db.get_table_info(['customer'])\n"
   ]
  },
  {
   "cell_type": "code",
   "execution_count": null,
   "metadata": {},
   "outputs": [],
   "source": [
    "db.get_table_info(\"userss\")"
   ]
  },
  {
   "cell_type": "code",
   "execution_count": null,
   "metadata": {},
   "outputs": [],
   "source": [
    "from dotenv import load_dotenv\n",
    "load_dotenv()"
   ]
  },
  {
   "cell_type": "code",
   "execution_count": 52,
   "metadata": {},
   "outputs": [],
   "source": [
    "from langchain_groq import ChatGroq\n",
    "llm= ChatGroq(model=\"llama-3.1-8b-instant\")"
   ]
  },
  {
   "cell_type": "code",
   "execution_count": null,
   "metadata": {},
   "outputs": [],
   "source": [
    "messages = [\n",
    "    (\"system\", \"You are a Chatbot that can answer questions\"),\n",
    "    (\"human\", \"who won IPL 2022?\"),\n",
    "]\n",
    "llm.invoke(messages)"
   ]
  },
  {
   "cell_type": "code",
   "execution_count": 63,
   "metadata": {},
   "outputs": [],
   "source": [
    "from langchain_community.agent_toolkits import SQLDatabaseToolkit"
   ]
  },
  {
   "cell_type": "code",
   "execution_count": null,
   "metadata": {},
   "outputs": [],
   "source": [
    "toolkit= SQLDatabaseToolkit(db=db, llm=llm)\n",
    "tools=toolkit.get_tools()\n",
    "for tool in tools:\n",
    "    print(tool.name, tool.description)"
   ]
  },
  {
   "cell_type": "code",
   "execution_count": 78,
   "metadata": {},
   "outputs": [],
   "source": [
    "list_table=next((tool for tool in tools if tool.name == \"sql_db_list_tables\"),None)\n",
    "list_table.invoke('{customer}')"
   ]
  },
  {
   "cell_type": "code",
   "execution_count": null,
   "metadata": {},
   "outputs": [],
   "source": [
    "schema=next((tool for tool in tools if tool.name == \"sql_db_schema\"),None)\n",
    "schema.invoke('customer')"
   ]
  },
  {
   "cell_type": "code",
   "execution_count": null,
   "metadata": {},
   "outputs": [],
   "source": [
    "@tool\n",
    "def db_query_tool(query : str)-> str:\n",
    "    \"\"\"Execute the SQL Query and return the result.\n",
    "    If the query is not valid, return an error message.\n",
    "    In case of an error, user is advised to rewrite the query.\n",
    "    \"\"\"\n",
    "    try:\n",
    "        result = db.run_no_throw(query)\n",
    "        return result\n",
    "    except Exception as e:\n",
    "        return f\"Error executing query: {str(e)}. Please rewrite the query.\"\n",
    "    "
   ]
  },
  {
   "cell_type": "code",
   "execution_count": null,
   "metadata": {},
   "outputs": [],
   "source": [
    "db.run(\"SELECT * FROM customer\")"
   ]
  },
  {
   "cell_type": "code",
   "execution_count": null,
   "metadata": {},
   "outputs": [],
   "source": []
  }
 ],
 "metadata": {
  "kernelspec": {
   "display_name": ".venv",
   "language": "python",
   "name": "python3"
  },
  "language_info": {
   "codemirror_mode": {
    "name": "ipython",
    "version": 3
   },
   "file_extension": ".py",
   "mimetype": "text/x-python",
   "name": "python",
   "nbconvert_exporter": "python",
   "pygments_lexer": "ipython3",
   "version": "3.13.3"
  }
 },
 "nbformat": 4,
 "nbformat_minor": 2
}
